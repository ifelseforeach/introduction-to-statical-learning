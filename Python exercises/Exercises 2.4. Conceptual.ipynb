{
 "cells": [
  {
   "cell_type": "markdown",
   "metadata": {},
   "source": [
    "### Conceptual"
   ]
  },
  {
   "cell_type": "markdown",
   "metadata": {},
   "source": [
    "1. For each of parts (a) through (d), indicate whether we would generally\n",
    "expect the performance of a flexible statistical learning method to be\n",
    "better or worse than an inflexible method. Justify your answer."
   ]
  },
  {
   "cell_type": "markdown",
   "metadata": {},
   "source": [
    "(a) The sample size n is extremely large, and the number of predictors\n",
    "p is small."
   ]
  },
  {
   "cell_type": "markdown",
   "metadata": {},
   "source": [
    "<u>Answer:</u> n -- extremely large that gives us most accuracy, smaller variance.\n",
    "The small number of predictors can be a warning sign if the important predictors are missing but in general it can decrease bias, so that could be ideal case for accurate model"
   ]
  },
  {
   "cell_type": "markdown",
   "metadata": {},
   "source": [
    "(b) The number of predictors p is extremely large, and the number\n",
    "of observations n is small."
   ]
  },
  {
   "cell_type": "markdown",
   "metadata": {},
   "source": [
    "<u>Answer:</u> Extremely large number of predictor increases bias, small number of observation increases varience, so it would be increased error for the model."
   ]
  },
  {
   "cell_type": "markdown",
   "metadata": {},
   "source": [
    "(c) The relationship between the predictors and response is highly\n",
    "non-linear."
   ]
  },
  {
   "cell_type": "markdown",
   "metadata": {},
   "source": [
    "<u>Answer:</u> For highly non-linear relationship the regression would be not correct fit and flexible statistical learning method can be the best fit."
   ]
  },
  {
   "cell_type": "markdown",
   "metadata": {},
   "source": [
    "(d) The variance of the error terms, i.e. ó2 = Var(\u0003), is extremely\n",
    "high."
   ]
  },
  {
   "cell_type": "markdown",
   "metadata": {},
   "source": [
    "<u>Answer:</u> The variance of the error is extremely high that means that there is probably not best fit or possible overfitting, so  the fluctuations are too large."
   ]
  },
  {
   "cell_type": "markdown",
   "metadata": {},
   "source": [
    "2. Explain whether each scenario is a classification or regression problem,\n",
    "and indicate whether we are most interested in inference or prediction.\n",
    "Finally, provide n and p:"
   ]
  },
  {
   "cell_type": "markdown",
   "metadata": {},
   "source": [
    "(a) We collect a set of data on the top 500 firms in the US. For each\n",
    "firm we record profit, number of employees, industry and the\n",
    "CEO salary. We are interested in understanding which factors\n",
    "affect CEO salary."
   ]
  },
  {
   "cell_type": "markdown",
   "metadata": {},
   "source": [
    "<u>Answer:</u> I think the problem is a <b>regression</b>, so we need to find correlation between the salary and possible factor that can impact on the salary. Any change would be measured by change of the value of the salary in the model, so for the model we need to create the regression problem.\n",
    "But aslo as we need to interpret the factors, it's also <b>inference</b> problem."
   ]
  },
  {
   "cell_type": "markdown",
   "metadata": {},
   "source": [
    "(b) We are considering launching a new product and wish to know\n",
    "whether it will be a success or a failure. We collect data on 20\n",
    "similar products that were previously launched. For each product\n",
    "we have recorded whether it was a success or failure, price\n",
    "charged for the product, marketing budget, competition price,\n",
    "and ten other variables."
   ]
  },
  {
   "cell_type": "markdown",
   "metadata": {},
   "source": [
    "<u>Answer:</u> This is a <b>classification problem</b>. Normally the classification is unsupervised but here we have some output data, so it can be supervised logarithmic (or any other) regression that can be checked with the real data, so <b>we can call this as regression problem</b> as well that can be interpreted as classification. We are focused on prediction rather than  inference."
   ]
  },
  {
   "cell_type": "markdown",
   "metadata": {},
   "source": [
    "(c) We are interest in predicting the % change in the USD/Euro exchange rate in relation to the weekly changes in the world\n",
    "stock markets. Hence we collect weekly data for all of 2012. For\n",
    "each week we record the % change in the USD/Euro, the %\n",
    "change in the US market, the % change in the British market,\n",
    "and the % change in the German market."
   ]
  },
  {
   "cell_type": "markdown",
   "metadata": {},
   "source": [
    "<u>Answer:</u> It's the regression problem, the prediction of the market cannot be accurate, so I believe the accent is on understanding factors on change of %, like % change in the British market. It's <b>inteference and regression problem</b>. Also it can be cluster analysis if we use % change bins for the prediction."
   ]
  },
  {
   "cell_type": "markdown",
   "metadata": {},
   "source": [
    "3. We now revisit the bias-variance decomposition."
   ]
  },
  {
   "cell_type": "markdown",
   "metadata": {},
   "source": [
    "(a) Provide a sketch of typical (squared) bias, variance, training error,\n",
    "test error, and Bayes (or irreducible) error curves, on a single\n",
    "plot, as we go from less flexible statistical learning methods\n",
    "towards more flexible approaches. The x-axis should represent the amount of flexibility in the method, and the y-axis should\n",
    "represent the values for each curve. There should be five curves.\n",
    "Make sure to label each one."
   ]
  },
  {
   "cell_type": "markdown",
   "metadata": {},
   "source": [
    "<u>Answer:</u>  <b>Bias (both Testing and Training)</b> should  decrease and approach to 0 <br>\n",
    "<b>Variance Traning</b> should  decrease and approach to 0  <br>\n",
    "but <b>Variance Testing Error</b> should decrease till some point and after that slighly increase (overfitting)\n",
    "I have no idea about <b>Bayes error</b>, so I believe it can remain the same."
   ]
  },
  {
   "cell_type": "markdown",
   "metadata": {},
   "source": [
    "(b) Explain why each of the five curves has the shape displayed in\n",
    "part (a)."
   ]
  },
  {
   "cell_type": "markdown",
   "metadata": {},
   "source": [
    "<u>Answer: </u> Bias with the shifting to more flexible model should decrease as we should better fit the model.\n",
    "    The testing variance should decrease at first but after we start to see the sign of overfitting if we start to valuate the occasional fluctuations and trying to fit them to the model. (Training variance should decrease all the time).\n",
    "    I don't have explanation for Bayes error curve."
   ]
  },
  {
   "cell_type": "markdown",
   "metadata": {},
   "source": [
    "4. You will now think of some real-life applications for statistical learning."
   ]
  },
  {
   "cell_type": "markdown",
   "metadata": {},
   "source": [
    "(a) Describe three real-life applications in which classification might\n",
    "be useful. Describe the response, as well as the predictors. Is the\n",
    "goal of each application inference or prediction? Explain your\n",
    "answer."
   ]
  },
  {
   "cell_type": "code",
   "execution_count": null,
   "metadata": {},
   "outputs": [],
   "source": [
    "#Later"
   ]
  },
  {
   "cell_type": "markdown",
   "metadata": {},
   "source": [
    "(b) Describe three real-life applications in which regression might\n",
    "be useful. Describe the response, as well as the predictors. Is the\n",
    "goal of each application inference or prediction? Explain your\n",
    "answer."
   ]
  },
  {
   "cell_type": "code",
   "execution_count": null,
   "metadata": {},
   "outputs": [],
   "source": [
    "#Later"
   ]
  },
  {
   "cell_type": "markdown",
   "metadata": {},
   "source": [
    "(c) Describe three real-life applications in which cluster analysis\n",
    "might be useful."
   ]
  },
  {
   "cell_type": "code",
   "execution_count": null,
   "metadata": {},
   "outputs": [],
   "source": [
    "#Later"
   ]
  },
  {
   "cell_type": "markdown",
   "metadata": {},
   "source": [
    "5. What are the advantages and disadvantages of a very flexible (versus\n",
    "a less flexible) approach for regression or classification? Under what\n",
    "circumstances might a more flexible approach be preferred to a less\n",
    "flexible approach? When might a less flexible approach be preferred?"
   ]
  },
  {
   "cell_type": "code",
   "execution_count": null,
   "metadata": {},
   "outputs": [],
   "source": []
  },
  {
   "cell_type": "markdown",
   "metadata": {},
   "source": [
    "6. Describe the differences between a parametric and a non-parametric\n",
    "statistical learning approach. What are the advantages of a parametric\n",
    "approach to regression or classification (as opposed to a nonparametric\n",
    "approach)? What are its disadvantages?"
   ]
  },
  {
   "cell_type": "code",
   "execution_count": null,
   "metadata": {},
   "outputs": [],
   "source": []
  },
  {
   "cell_type": "markdown",
   "metadata": {},
   "source": [
    "The table below provides a training data set containing six observations,\n",
    "three predictors, and one qualitative response variable.<br>\n",
    "Obs. X1 X2 X3 Y<br>\n",
    "1 0 3 0 Red\n",
    "2 2 0 0 Red\n",
    "3 0 1 3 Red\n",
    "4 0 1 2 Green\n",
    "5 -1 0 1 Green\n",
    "6 1 1 1 Red\n",
    "Suppose we wish to use this data set to make a prediction for Y when\n",
    "X1 = X2 = X3 = 0 using K-nearest neighbors."
   ]
  }
 ],
 "metadata": {
  "kernelspec": {
   "display_name": "Python 2",
   "language": "python",
   "name": "python2"
  },
  "language_info": {
   "codemirror_mode": {
    "name": "ipython",
    "version": 2
   },
   "file_extension": ".py",
   "mimetype": "text/x-python",
   "name": "python",
   "nbconvert_exporter": "python",
   "pygments_lexer": "ipython2",
   "version": "2.7.15"
  }
 },
 "nbformat": 4,
 "nbformat_minor": 2
}
